{
 "cells": [
  {
   "cell_type": "code",
   "execution_count": 1,
   "metadata": {},
   "outputs": [],
   "source": [
    "import pandas as pd\n",
    "from sklearn.feature_extraction.text import TfidfVectorizer, CountVectorizer\n",
    "from sklearn import metrics\n",
    "import xgboost as xgb\n",
    "from sklearn.model_selection import train_test_split\n",
    "from sklearn.preprocessing import LabelEncoder"
   ]
  },
  {
   "cell_type": "code",
   "execution_count": 2,
   "metadata": {},
   "outputs": [
    {
     "name": "stdout",
     "output_type": "stream",
     "text": [
      "(611, 33)\n"
     ]
    },
    {
     "data": {
      "text/html": [
       "<div>\n",
       "<style scoped>\n",
       "    .dataframe tbody tr th:only-of-type {\n",
       "        vertical-align: middle;\n",
       "    }\n",
       "\n",
       "    .dataframe tbody tr th {\n",
       "        vertical-align: top;\n",
       "    }\n",
       "\n",
       "    .dataframe thead th {\n",
       "        text-align: right;\n",
       "    }\n",
       "</style>\n",
       "<table border=\"1\" class=\"dataframe\">\n",
       "  <thead>\n",
       "    <tr style=\"text-align: right;\">\n",
       "      <th></th>\n",
       "      <th>Course</th>\n",
       "      <th>Book ID</th>\n",
       "      <th>Topic</th>\n",
       "      <th>Bookclub</th>\n",
       "      <th>Chat0CREW1</th>\n",
       "      <th>Pseudonym</th>\n",
       "      <th>Message</th>\n",
       "      <th>Message Time</th>\n",
       "      <th>Is Answer</th>\n",
       "      <th>Page</th>\n",
       "      <th>...</th>\n",
       "      <th>BinaryR2Uptake</th>\n",
       "      <th>Pseudonym.1</th>\n",
       "      <th>Message.1</th>\n",
       "      <th>Bookclub.1</th>\n",
       "      <th>R1 Question</th>\n",
       "      <th>R2 Question</th>\n",
       "      <th>R1 Pivot</th>\n",
       "      <th>R2 Pivot</th>\n",
       "      <th>Memo</th>\n",
       "      <th>Old Code Book</th>\n",
       "    </tr>\n",
       "  </thead>\n",
       "  <tbody>\n",
       "    <tr>\n",
       "      <th>0</th>\n",
       "      <td>PIM P1</td>\n",
       "      <td>260</td>\n",
       "      <td>Part 1: What happens next? What is behind the ...</td>\n",
       "      <td>Book Club One</td>\n",
       "      <td>1</td>\n",
       "      <td>pim-01</td>\n",
       "      <td>Hello.</td>\n",
       "      <td>2020-10-20 17:06:00</td>\n",
       "      <td>No</td>\n",
       "      <td>10</td>\n",
       "      <td>...</td>\n",
       "      <td>0</td>\n",
       "      <td>pim-01</td>\n",
       "      <td>Hello.</td>\n",
       "      <td>Book Club One</td>\n",
       "      <td>NaN</td>\n",
       "      <td>NaN</td>\n",
       "      <td>NaN</td>\n",
       "      <td>NaN</td>\n",
       "      <td>NaN</td>\n",
       "      <td>Greeting</td>\n",
       "    </tr>\n",
       "    <tr>\n",
       "      <th>1</th>\n",
       "      <td>PIM P1</td>\n",
       "      <td>260</td>\n",
       "      <td>Part 1: What happens next? What is behind the ...</td>\n",
       "      <td>Book Club One</td>\n",
       "      <td>1</td>\n",
       "      <td>pim-01</td>\n",
       "      <td>My assumption is</td>\n",
       "      <td>2020-10-20 17:06:00</td>\n",
       "      <td>No</td>\n",
       "      <td>10</td>\n",
       "      <td>...</td>\n",
       "      <td>0</td>\n",
       "      <td>pim-01</td>\n",
       "      <td>My assumption is</td>\n",
       "      <td>Book Club One</td>\n",
       "      <td>NaN</td>\n",
       "      <td>NaN</td>\n",
       "      <td>NaN</td>\n",
       "      <td>Social/Procedure/UX to Seminar</td>\n",
       "      <td>NaN</td>\n",
       "      <td>Content Discussion</td>\n",
       "    </tr>\n",
       "    <tr>\n",
       "      <th>2</th>\n",
       "      <td>PIM P1</td>\n",
       "      <td>260</td>\n",
       "      <td>Part 1: What happens next? What is behind the ...</td>\n",
       "      <td>Book Club One</td>\n",
       "      <td>1</td>\n",
       "      <td>pim-01</td>\n",
       "      <td>that the emphasis on barbarism implies that sh...</td>\n",
       "      <td>2020-10-20 17:06:00</td>\n",
       "      <td>No</td>\n",
       "      <td>10</td>\n",
       "      <td>...</td>\n",
       "      <td>0</td>\n",
       "      <td>pim-01</td>\n",
       "      <td>that the emphasis on barbarism implies that sh...</td>\n",
       "      <td>Book Club One</td>\n",
       "      <td>NaN</td>\n",
       "      <td>NaN</td>\n",
       "      <td>NaN</td>\n",
       "      <td>NaN</td>\n",
       "      <td>NaN</td>\n",
       "      <td>Content Discussion</td>\n",
       "    </tr>\n",
       "    <tr>\n",
       "      <th>3</th>\n",
       "      <td>PIM P1</td>\n",
       "      <td>260</td>\n",
       "      <td>Part 1: What happens next? What is behind the ...</td>\n",
       "      <td>Book Club One</td>\n",
       "      <td>1</td>\n",
       "      <td>pim-03</td>\n",
       "      <td>I agree with Cassandra's noticing</td>\n",
       "      <td>2020-10-27 17:58:00</td>\n",
       "      <td>No</td>\n",
       "      <td>10</td>\n",
       "      <td>...</td>\n",
       "      <td>1</td>\n",
       "      <td>pim-03</td>\n",
       "      <td>I agree with Cassandra's noticing</td>\n",
       "      <td>Book Club One</td>\n",
       "      <td>NaN</td>\n",
       "      <td>NaN</td>\n",
       "      <td>NaN</td>\n",
       "      <td>NaN</td>\n",
       "      <td>NaN</td>\n",
       "      <td>Response</td>\n",
       "    </tr>\n",
       "    <tr>\n",
       "      <th>4</th>\n",
       "      <td>PIM P1</td>\n",
       "      <td>260</td>\n",
       "      <td>Part 1: What happens next? What is behind the ...</td>\n",
       "      <td>Book Club One</td>\n",
       "      <td>1</td>\n",
       "      <td>pim-03</td>\n",
       "      <td>of the author's word choice of barbarism.</td>\n",
       "      <td>2020-10-27 17:58:00</td>\n",
       "      <td>No</td>\n",
       "      <td>10</td>\n",
       "      <td>...</td>\n",
       "      <td>1</td>\n",
       "      <td>pim-03</td>\n",
       "      <td>of the author's word choice of barbarism.</td>\n",
       "      <td>Book Club One</td>\n",
       "      <td>NaN</td>\n",
       "      <td>NaN</td>\n",
       "      <td>NaN</td>\n",
       "      <td>NaN</td>\n",
       "      <td>NaN</td>\n",
       "      <td>Content Discussion</td>\n",
       "    </tr>\n",
       "  </tbody>\n",
       "</table>\n",
       "<p>5 rows × 33 columns</p>\n",
       "</div>"
      ],
      "text/plain": [
       "   Course  Book ID                                              Topic   \n",
       "0  PIM P1      260  Part 1: What happens next? What is behind the ...  \\\n",
       "1  PIM P1      260  Part 1: What happens next? What is behind the ...   \n",
       "2  PIM P1      260  Part 1: What happens next? What is behind the ...   \n",
       "3  PIM P1      260  Part 1: What happens next? What is behind the ...   \n",
       "4  PIM P1      260  Part 1: What happens next? What is behind the ...   \n",
       "\n",
       "        Bookclub  Chat0CREW1 Pseudonym   \n",
       "0  Book Club One           1    pim-01  \\\n",
       "1  Book Club One           1    pim-01   \n",
       "2  Book Club One           1    pim-01   \n",
       "3  Book Club One           1    pim-03   \n",
       "4  Book Club One           1    pim-03   \n",
       "\n",
       "                                             Message         Message Time   \n",
       "0                                            Hello.   2020-10-20 17:06:00  \\\n",
       "1                                   My assumption is  2020-10-20 17:06:00   \n",
       "2  that the emphasis on barbarism implies that sh...  2020-10-20 17:06:00   \n",
       "3                 I agree with Cassandra's noticing   2020-10-27 17:58:00   \n",
       "4          of the author's word choice of barbarism.  2020-10-27 17:58:00   \n",
       "\n",
       "  Is Answer Page  ... BinaryR2Uptake Pseudonym.1   \n",
       "0        No   10  ...              0      pim-01  \\\n",
       "1        No   10  ...              0      pim-01   \n",
       "2        No   10  ...              0      pim-01   \n",
       "3        No   10  ...              1      pim-03   \n",
       "4        No   10  ...              1      pim-03   \n",
       "\n",
       "                                           Message.1     Bookclub.1   \n",
       "0                                            Hello.   Book Club One  \\\n",
       "1                                   My assumption is  Book Club One   \n",
       "2  that the emphasis on barbarism implies that sh...  Book Club One   \n",
       "3                 I agree with Cassandra's noticing   Book Club One   \n",
       "4          of the author's word choice of barbarism.  Book Club One   \n",
       "\n",
       "  R1 Question  R2 Question R1 Pivot                        R2 Pivot Memo   \n",
       "0         NaN          NaN      NaN                             NaN  NaN  \\\n",
       "1         NaN          NaN      NaN  Social/Procedure/UX to Seminar  NaN   \n",
       "2         NaN          NaN      NaN                             NaN  NaN   \n",
       "3         NaN          NaN      NaN                             NaN  NaN   \n",
       "4         NaN          NaN      NaN                             NaN  NaN   \n",
       "\n",
       "        Old Code Book  \n",
       "0            Greeting  \n",
       "1  Content Discussion  \n",
       "2  Content Discussion  \n",
       "3            Response  \n",
       "4  Content Discussion  \n",
       "\n",
       "[5 rows x 33 columns]"
      ]
     },
     "execution_count": 2,
     "metadata": {},
     "output_type": "execute_result"
    }
   ],
   "source": [
    "# load excell file\n",
    "df = pd.read_excel('../data/CollabWriteAnalysisCountCodesLadyorTigerF20nS21S22wGSAnalysis27Jan2023_14Mar2024CleanF.xlsm')\n",
    "print(df.shape)\n",
    "df.head()"
   ]
  },
  {
   "cell_type": "code",
   "execution_count": 3,
   "metadata": {},
   "outputs": [
    {
     "data": {
      "text/plain": [
       "Index(['Course', 'Book ID', 'Topic', 'Bookclub', 'Chat0CREW1', 'Pseudonym',\n",
       "       'Message', 'Message Time', 'Is Answer', 'Page', 'Response Number',\n",
       "       'R1 Discussion type', 'R2DiscussionType',\n",
       "       'R2DiscussionTypeInterpNothers', 'CollapsR2DiscussionTypeInterpNothers',\n",
       "       'Chat0CREW1B', 'R1 Dialogic spell', 'BinaryR1DialogicSpell',\n",
       "       'R1 Uptake', 'BinaryR1Uptake', 'R2DialogicSpell',\n",
       "       'BinaryR2DialogicSpell', 'R2Uptake', 'BinaryR2Uptake', 'Pseudonym.1',\n",
       "       'Message.1', 'Bookclub.1', 'R1 Question', 'R2 Question', 'R1 Pivot',\n",
       "       'R2 Pivot', 'Memo', 'Old Code Book'],\n",
       "      dtype='object')"
      ]
     },
     "execution_count": 3,
     "metadata": {},
     "output_type": "execute_result"
    }
   ],
   "source": [
    "df.columns"
   ]
  },
  {
   "cell_type": "code",
   "execution_count": 4,
   "metadata": {},
   "outputs": [
    {
     "name": "stdout",
     "output_type": "stream",
     "text": [
      "R2DiscussionType ['Social' 'Seminar' 'Procedure' 'Other' 'Deliberation' 'UX'\n",
      " 'Imaginative entry' 'Seminar, Deliberation' 'Social, Deliberation'\n",
      " 'Deliberation, Seminar' 'Social, Procedure' 'Imaginative'\n",
      " 'Imaginative Entry'] 0\n",
      "R2DiscussionTypeInterpNothers ['Social' 'Interpretation' 'Procedure' 'Other' 'Deliberation' 'UX'] 0\n",
      "CollapsR2DiscussionTypeInterpNothers ['Social/Procedural/UX' 'Interpretation' 'Other' 'Deliberation'] 0\n",
      "R2DialogicSpell [ 1. nan  2.  3.  4.  5.  6.  7.] 150\n",
      "BinaryR2DialogicSpell [ 1.  0. nan  2.] 2\n",
      "R2Uptake [nan 'Affirm' 'Elaborate' 'Filler' 'Clarify' 'Disagree'] 243\n",
      "BinaryR2Uptake [0 1] 0\n"
     ]
    }
   ],
   "source": [
    "print('R2DiscussionType', df['R2DiscussionType'].unique(), df['R2DiscussionType'].isna().sum())\n",
    "print('R2DiscussionTypeInterpNothers', df['R2DiscussionTypeInterpNothers'].unique(), df['R2DiscussionTypeInterpNothers'].isna().sum())\n",
    "print('CollapsR2DiscussionTypeInterpNothers', df['CollapsR2DiscussionTypeInterpNothers'].unique(), df['CollapsR2DiscussionTypeInterpNothers'].isna().sum())\n",
    "print('R2DialogicSpell', df['R2DialogicSpell'].unique(), df['R2DialogicSpell'].isna().sum())\n",
    "print('BinaryR2DialogicSpell', df['BinaryR2DialogicSpell'].unique(), df['BinaryR2DialogicSpell'].isna().sum())\n",
    "print('R2Uptake', df['R2Uptake'].unique(), df['R2Uptake'].isna().sum())\n",
    "print('BinaryR2Uptake', df['BinaryR2Uptake'].unique(), df['BinaryR2Uptake'].isna().sum())"
   ]
  },
  {
   "cell_type": "code",
   "execution_count": 8,
   "metadata": {},
   "outputs": [
    {
     "name": "stdout",
     "output_type": "stream",
     "text": [
      "R2DiscussionTypeInterpNothers\n",
      "Interpretation    335\n",
      "Deliberation       87\n",
      "Social             71\n",
      "UX                 47\n",
      "Procedure          46\n",
      "Other              25\n",
      "Name: count, dtype: int64\n"
     ]
    }
   ],
   "source": [
    "names = {1:'R2DiscussionType',2:'R2DiscussionTypeInterpNothers',3:'CollapsR2DiscussionTypeInterpNothers',4:'R2DialogicSpell',5:'BinaryR2DialogicSpell',6:'R2Uptake',7:'BinaryR2Uptake'}\n",
    "print(df[names[1]].value_counts())"
   ]
  },
  {
   "cell_type": "code",
   "execution_count": 35,
   "metadata": {},
   "outputs": [
    {
     "name": "stdout",
     "output_type": "stream",
     "text": [
      "(611, 33)\n"
     ]
    }
   ],
   "source": [
    "df = df.dropna(subset=['Message'])\n",
    "print(df.shape) # all messages have values\n",
    "filtered_df1 = df[['Message', 'R2DiscussionType']]\n",
    "filtered_df2 = df[['Message', 'R2DiscussionTypeInterpNothers']]\n",
    "filtered_df3 = df[['Message', 'CollapsR2DiscussionTypeInterpNothers']]\n",
    "filtered_df4 = df[['Message', 'R2DialogicSpell']]\n",
    "filtered_df5 = df[['Message', 'BinaryR2DialogicSpell']]\n",
    "filtered_df6 = df[['Message', 'R2Uptake']]\n",
    "filtered_df7 = df[['Message', 'BinaryR2Uptake']]\n",
    "\n",
    "# other ways to handle missing labels?\n",
    "filtered_df4 = filtered_df4.dropna(subset=['R2DialogicSpell'])\n",
    "filtered_df5 = filtered_df5.dropna(subset=['BinaryR2DialogicSpell'])\n",
    "filtered_df6 = filtered_df6.dropna(subset=['R2Uptake'])\n",
    "a=5"
   ]
  },
  {
   "cell_type": "code",
   "execution_count": 38,
   "metadata": {},
   "outputs": [
    {
     "name": "stdout",
     "output_type": "stream",
     "text": [
      "Classification report:\n",
      "              precision    recall  f1-score   support\n",
      "\n",
      "           0       0.67      0.35      0.46        23\n",
      "           1       0.76      0.90      0.83        71\n",
      "           2       0.00      0.00      0.00         8\n",
      "           3       0.44      0.57      0.50        21\n",
      "\n",
      "    accuracy                           0.68       123\n",
      "   macro avg       0.47      0.46      0.45       123\n",
      "weighted avg       0.64      0.68      0.65       123\n",
      "\n"
     ]
    },
    {
     "name": "stderr",
     "output_type": "stream",
     "text": [
      "C:\\Users\\nejcm\\AppData\\Roaming\\Python\\Python312\\site-packages\\sklearn\\metrics\\_classification.py:1509: UndefinedMetricWarning: Precision is ill-defined and being set to 0.0 in labels with no predicted samples. Use `zero_division` parameter to control this behavior.\n",
      "  _warn_prf(average, modifier, f\"{metric.capitalize()} is\", len(result))\n",
      "C:\\Users\\nejcm\\AppData\\Roaming\\Python\\Python312\\site-packages\\sklearn\\metrics\\_classification.py:1509: UndefinedMetricWarning: Precision is ill-defined and being set to 0.0 in labels with no predicted samples. Use `zero_division` parameter to control this behavior.\n",
      "  _warn_prf(average, modifier, f\"{metric.capitalize()} is\", len(result))\n",
      "C:\\Users\\nejcm\\AppData\\Roaming\\Python\\Python312\\site-packages\\sklearn\\metrics\\_classification.py:1509: UndefinedMetricWarning: Precision is ill-defined and being set to 0.0 in labels with no predicted samples. Use `zero_division` parameter to control this behavior.\n",
      "  _warn_prf(average, modifier, f\"{metric.capitalize()} is\", len(result))\n"
     ]
    }
   ],
   "source": [
    "# specify which target to model (filtered1/2/3/.../7)\n",
    "dataframe = filtered_df3\n",
    "\n",
    "vectorizer = TfidfVectorizer(sublinear_tf=True, max_df=0.5, stop_words='english')\n",
    "X = vectorizer.fit_transform(dataframe['Message'].values)\n",
    "y = dataframe.iloc[:, 1].values\n",
    "\n",
    "X_train, X_test, y_train, y_test = train_test_split(X, y, test_size=0.2, random_state=42)\n",
    "\n",
    "label_encoder = LabelEncoder()\n",
    "y_train = label_encoder.fit_transform(y_train)\n",
    "y_test = label_encoder.fit_transform(y_test)\n",
    "\n",
    "model = xgb.XGBClassifier()\n",
    "model.fit(X_train, y_train)\n",
    "y_pred = model.predict(X_test)\n",
    "\n",
    "print(\"Classification report:\")\n",
    "print(metrics.classification_report(y_test, y_pred))"
   ]
  },
  {
   "cell_type": "code",
   "execution_count": 39,
   "metadata": {},
   "outputs": [
    {
     "name": "stdout",
     "output_type": "stream",
     "text": [
      "Classification report:\n",
      "              precision    recall  f1-score   support\n",
      "\n",
      "           0       0.56      0.43      0.49        23\n",
      "           1       0.86      0.85      0.85        71\n",
      "           2       1.00      0.25      0.40         8\n",
      "           3       0.39      0.62      0.48        21\n",
      "\n",
      "    accuracy                           0.69       123\n",
      "   macro avg       0.70      0.54      0.56       123\n",
      "weighted avg       0.73      0.69      0.69       123\n",
      "\n"
     ]
    }
   ],
   "source": [
    "# specify which target to model (filtered1/2/3/.../7)\n",
    "dataframe = filtered_df3\n",
    "\n",
    "count_vectorizer = CountVectorizer()\n",
    "X = count_vectorizer.fit_transform(dataframe['Message'].values)\n",
    "y = dataframe.iloc[:, 1].values\n",
    "\n",
    "X_train, X_test, y_train, y_test = train_test_split(X, y, test_size=0.2, random_state=42)\n",
    "\n",
    "label_encoder = LabelEncoder()\n",
    "y_train = label_encoder.fit_transform(y_train)\n",
    "y_test = label_encoder.fit_transform(y_test)\n",
    "\n",
    "model = xgb.XGBClassifier()\n",
    "model.fit(X_train, y_train)\n",
    "y_pred = model.predict(X_test)\n",
    "\n",
    "print(\"Classification report:\")\n",
    "print(metrics.classification_report(y_test, y_pred))"
   ]
  }
 ],
 "metadata": {
  "kernelspec": {
   "display_name": "Python 3",
   "language": "python",
   "name": "python3"
  },
  "language_info": {
   "codemirror_mode": {
    "name": "ipython",
    "version": 3
   },
   "file_extension": ".py",
   "mimetype": "text/x-python",
   "name": "python",
   "nbconvert_exporter": "python",
   "pygments_lexer": "ipython3",
   "version": "3.12.2"
  }
 },
 "nbformat": 4,
 "nbformat_minor": 2
}
