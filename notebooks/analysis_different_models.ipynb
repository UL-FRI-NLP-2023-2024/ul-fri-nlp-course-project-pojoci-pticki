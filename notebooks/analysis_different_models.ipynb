{
 "cells": [
  {
   "cell_type": "code",
   "execution_count": 1,
   "metadata": {},
   "outputs": [],
   "source": [
    "import pandas as pd\n",
    "from sklearn.feature_extraction.text import TfidfVectorizer, CountVectorizer\n",
    "from sklearn import metrics\n",
    "import xgboost as xgb\n",
    "from sklearn.model_selection import train_test_split, cross_val_score\n",
    "from sklearn.preprocessing import LabelEncoder\n",
    "from sklearn.svm import SVC\n",
    "from sklearn.linear_model import LogisticRegression\n",
    "from sklearn.ensemble import RandomForestClassifier\n",
    "import numpy as np"
   ]
  },
  {
   "cell_type": "code",
   "execution_count": 24,
   "metadata": {},
   "outputs": [
    {
     "name": "stdout",
     "output_type": "stream",
     "text": [
      "Message            0\n",
      "Discussion Type    0\n",
      "dtype: int64\n"
     ]
    },
    {
     "data": {
      "text/html": [
       "<div>\n",
       "<style scoped>\n",
       "    .dataframe tbody tr th:only-of-type {\n",
       "        vertical-align: middle;\n",
       "    }\n",
       "\n",
       "    .dataframe tbody tr th {\n",
       "        vertical-align: top;\n",
       "    }\n",
       "\n",
       "    .dataframe thead th {\n",
       "        text-align: right;\n",
       "    }\n",
       "</style>\n",
       "<table border=\"1\" class=\"dataframe\">\n",
       "  <thead>\n",
       "    <tr style=\"text-align: right;\">\n",
       "      <th></th>\n",
       "      <th>Message</th>\n",
       "      <th>Discussion Type</th>\n",
       "    </tr>\n",
       "  </thead>\n",
       "  <tbody>\n",
       "    <tr>\n",
       "      <th>0</th>\n",
       "      <td>Hello.</td>\n",
       "      <td>Social</td>\n",
       "    </tr>\n",
       "    <tr>\n",
       "      <th>1</th>\n",
       "      <td>My assumption is</td>\n",
       "      <td>Seminar</td>\n",
       "    </tr>\n",
       "    <tr>\n",
       "      <th>2</th>\n",
       "      <td>that the emphasis on barbarism implies that sh...</td>\n",
       "      <td>Seminar</td>\n",
       "    </tr>\n",
       "    <tr>\n",
       "      <th>3</th>\n",
       "      <td>I agree with Cassandra's noticing</td>\n",
       "      <td>Seminar</td>\n",
       "    </tr>\n",
       "    <tr>\n",
       "      <th>4</th>\n",
       "      <td>of the author's word choice of barbarism.</td>\n",
       "      <td>Seminar</td>\n",
       "    </tr>\n",
       "  </tbody>\n",
       "</table>\n",
       "</div>"
      ],
      "text/plain": [
       "                                             Message Discussion Type\n",
       "0                                            Hello.           Social\n",
       "1                                   My assumption is         Seminar\n",
       "2  that the emphasis on barbarism implies that sh...         Seminar\n",
       "3                 I agree with Cassandra's noticing          Seminar\n",
       "4          of the author's word choice of barbarism.         Seminar"
      ]
     },
     "execution_count": 24,
     "metadata": {},
     "output_type": "execute_result"
    }
   ],
   "source": [
    "df = pd.read_csv('../data/svicar iz milana.csv')\n",
    "df = df.dropna()\n",
    "print(df.isna().sum())\n",
    "df.head()"
   ]
  },
  {
   "cell_type": "code",
   "execution_count": 4,
   "metadata": {},
   "outputs": [
    {
     "name": "stdout",
     "output_type": "stream",
     "text": [
      "Classification report XGBoost:\n",
      "              precision    recall  f1-score   support\n",
      "\n",
      "           0       0.17      0.10      0.12        10\n",
      "           1       0.00      0.00      0.00         1\n",
      "           2       0.00      0.00      0.00        11\n",
      "           3       0.20      0.03      0.06        30\n",
      "           4       0.07      0.23      0.11        13\n",
      "           5       0.09      0.20      0.12         5\n",
      "           6       0.00      0.00      0.00         2\n",
      "\n",
      "    accuracy                           0.08        72\n",
      "   macro avg       0.08      0.08      0.06        72\n",
      "weighted avg       0.13      0.08      0.07        72\n",
      "\n",
      "Classification report SVM-Linear:\n",
      "              precision    recall  f1-score   support\n",
      "\n",
      "           0       0.33      0.20      0.25        10\n",
      "           1       0.00      0.00      0.00         1\n",
      "           2       0.00      0.00      0.00        11\n",
      "           3       0.00      0.00      0.00        30\n",
      "           4       0.15      0.54      0.23        13\n",
      "           5       0.10      0.20      0.13         5\n",
      "           6       0.00      0.00      0.00         2\n",
      "\n",
      "    accuracy                           0.14        72\n",
      "   macro avg       0.08      0.13      0.09        72\n",
      "weighted avg       0.08      0.14      0.09        72\n",
      "\n"
     ]
    },
    {
     "name": "stderr",
     "output_type": "stream",
     "text": [
      "C:\\Users\\nejcm\\AppData\\Roaming\\Python\\Python312\\site-packages\\sklearn\\metrics\\_classification.py:1509: UndefinedMetricWarning: Precision is ill-defined and being set to 0.0 in labels with no predicted samples. Use `zero_division` parameter to control this behavior.\n",
      "  _warn_prf(average, modifier, f\"{metric.capitalize()} is\", len(result))\n",
      "C:\\Users\\nejcm\\AppData\\Roaming\\Python\\Python312\\site-packages\\sklearn\\metrics\\_classification.py:1509: UndefinedMetricWarning: Precision is ill-defined and being set to 0.0 in labels with no predicted samples. Use `zero_division` parameter to control this behavior.\n",
      "  _warn_prf(average, modifier, f\"{metric.capitalize()} is\", len(result))\n",
      "C:\\Users\\nejcm\\AppData\\Roaming\\Python\\Python312\\site-packages\\sklearn\\metrics\\_classification.py:1509: UndefinedMetricWarning: Precision is ill-defined and being set to 0.0 in labels with no predicted samples. Use `zero_division` parameter to control this behavior.\n",
      "  _warn_prf(average, modifier, f\"{metric.capitalize()} is\", len(result))\n",
      "C:\\Users\\nejcm\\AppData\\Roaming\\Python\\Python312\\site-packages\\sklearn\\metrics\\_classification.py:1509: UndefinedMetricWarning: Precision is ill-defined and being set to 0.0 in labels with no predicted samples. Use `zero_division` parameter to control this behavior.\n",
      "  _warn_prf(average, modifier, f\"{metric.capitalize()} is\", len(result))\n",
      "C:\\Users\\nejcm\\AppData\\Roaming\\Python\\Python312\\site-packages\\sklearn\\metrics\\_classification.py:1509: UndefinedMetricWarning: Precision is ill-defined and being set to 0.0 in labels with no predicted samples. Use `zero_division` parameter to control this behavior.\n",
      "  _warn_prf(average, modifier, f\"{metric.capitalize()} is\", len(result))\n",
      "C:\\Users\\nejcm\\AppData\\Roaming\\Python\\Python312\\site-packages\\sklearn\\metrics\\_classification.py:1509: UndefinedMetricWarning: Precision is ill-defined and being set to 0.0 in labels with no predicted samples. Use `zero_division` parameter to control this behavior.\n",
      "  _warn_prf(average, modifier, f\"{metric.capitalize()} is\", len(result))\n"
     ]
    }
   ],
   "source": [
    "vectorizer = TfidfVectorizer(sublinear_tf=True, max_df=0.5, stop_words='english')\n",
    "X = vectorizer.fit_transform(df['Message'].values)\n",
    "y = df.iloc[:, 1].values\n",
    "\n",
    "X_train, X_test, y_train, y_test = train_test_split(X, y, test_size=0.1, random_state=42)\n",
    "\n",
    "label_encoder = LabelEncoder()\n",
    "y_train = label_encoder.fit_transform(y_train)\n",
    "y_test = label_encoder.fit_transform(y_test)\n",
    "\n",
    "xgb_classifier = xgb.XGBClassifier()\n",
    "xgb_classifier.fit(X_train, y_train)\n",
    "y_pred1 = xgb_classifier.predict(X_test)\n",
    "\n",
    "print(\"Classification report XGBoost:\")\n",
    "print(metrics.classification_report(y_test, y_pred1))\n",
    "\n",
    "svm_classifier = SVC(kernel='linear')\n",
    "svm_classifier.fit(X_train, y_train)\n",
    "y_pred2 = svm_classifier.predict(X_test)\n",
    "\n",
    "print(\"Classification report SVM-Linear:\")\n",
    "print(metrics.classification_report(y_test, y_pred2))"
   ]
  },
  {
   "cell_type": "code",
   "execution_count": 22,
   "metadata": {},
   "outputs": [
    {
     "name": "stdout",
     "output_type": "stream",
     "text": [
      "xgboost: 0.5926622673101546\n",
      "svm-linear: 0.6095144292327391\n",
      "svm-rbf: 0.549157884369152\n",
      "svm-poly: 0.5351029252437703\n",
      "log-reg: 0.567398798384714\n",
      "random-forest: 0.6025115729341082\n"
     ]
    }
   ],
   "source": [
    "vectorizer = TfidfVectorizer(sublinear_tf=True, max_df=0.5, stop_words='english')\n",
    "X = vectorizer.fit_transform(df['Message'].values)\n",
    "y = df.iloc[:, 1].values\n",
    "\n",
    "label_encoder = LabelEncoder()\n",
    "y = label_encoder.fit_transform(y)\n",
    "\n",
    "xgb_classifier = xgb.XGBClassifier()\n",
    "\n",
    "svm_classifier_lin = SVC(kernel='linear')\n",
    "svm_classifier_rbf = SVC(kernel='rbf')\n",
    "svm_classifier_poly = SVC(kernel='poly')\n",
    "\n",
    "log_reg_classifier = LogisticRegression()\n",
    "\n",
    "rf_classifier = RandomForestClassifier()\n",
    "\n",
    "xgb_scores = cross_val_score(xgb_classifier, X, y, cv=5, scoring='f1_micro')\n",
    "svm_lin_scores = cross_val_score(svm_classifier_lin, X, y, cv=5, scoring='f1_micro')\n",
    "svm_rbf_scores = cross_val_score(svm_classifier_rbf, X, y, cv=5, scoring='f1_micro')\n",
    "svm_poly_scores = cross_val_score(svm_classifier_poly, X, y, cv=5, scoring='f1_micro')\n",
    "log_reg_scores = cross_val_score(log_reg_classifier, X, y, cv=5, scoring='f1_micro')\n",
    "rf_scores = cross_val_score(rf_classifier, X, y, cv=5, scoring='f1_micro')\n",
    "\n",
    "\n",
    "print(f'xgboost: {np.average(xgb_scores)}')\n",
    "print(f'svm-linear: {np.average(svm_lin_scores)}')\n",
    "print(f'svm-rbf: {np.average(svm_rbf_scores)}')\n",
    "print(f'svm-poly: {np.average(svm_poly_scores)}')\n",
    "print(f'log-reg: {np.average(log_reg_scores)}')\n",
    "print(f'random-forest: {np.average(rf_scores)}')"
   ]
  },
  {
   "cell_type": "code",
   "execution_count": 25,
   "metadata": {},
   "outputs": [
    {
     "name": "stdout",
     "output_type": "stream",
     "text": [
      "xgboost: 0.6061831984816701\n",
      "svm-linear: 0.587793427230047\n",
      "svm-rbf: 0.566586754569973\n",
      "svm-poly: 0.5098991109779243\n",
      "log-reg: 0.6203476176206173\n",
      "random-forest: 0.6246329038058136\n"
     ]
    }
   ],
   "source": [
    "count_vectorizer = CountVectorizer()\n",
    "X = count_vectorizer.fit_transform(df['Message'].values)\n",
    "y = df.iloc[:, 1].values\n",
    "\n",
    "label_encoder = LabelEncoder()\n",
    "y = label_encoder.fit_transform(y)\n",
    "\n",
    "xgb_classifier = xgb.XGBClassifier()\n",
    "\n",
    "svm_classifier_lin = SVC(kernel='linear')\n",
    "svm_classifier_rbf = SVC(kernel='rbf')\n",
    "svm_classifier_poly = SVC(kernel='poly')\n",
    "\n",
    "log_reg_classifier = LogisticRegression()\n",
    "\n",
    "rf_classifier = RandomForestClassifier()\n",
    "\n",
    "xgb_scores = cross_val_score(xgb_classifier, X, y, cv=5, scoring='f1_micro')\n",
    "svm_lin_scores = cross_val_score(svm_classifier_lin, X, y, cv=5, scoring='f1_micro')\n",
    "svm_rbf_scores = cross_val_score(svm_classifier_rbf, X, y, cv=5, scoring='f1_micro')\n",
    "svm_poly_scores = cross_val_score(svm_classifier_poly, X, y, cv=5, scoring='f1_micro')\n",
    "log_reg_scores = cross_val_score(log_reg_classifier, X, y, cv=5, scoring='f1_micro')\n",
    "rf_scores = cross_val_score(rf_classifier, X, y, cv=5, scoring='f1_micro')\n",
    "\n",
    "\n",
    "print(f'xgboost: {np.average(xgb_scores)}')\n",
    "print(f'svm-linear: {np.average(svm_lin_scores)}')\n",
    "print(f'svm-rbf: {np.average(svm_rbf_scores)}')\n",
    "print(f'svm-poly: {np.average(svm_poly_scores)}')\n",
    "print(f'log-reg: {np.average(log_reg_scores)}')\n",
    "print(f'random-forest: {np.average(rf_scores)}')"
   ]
  }
 ],
 "metadata": {
  "kernelspec": {
   "display_name": "Python 3",
   "language": "python",
   "name": "python3"
  },
  "language_info": {
   "codemirror_mode": {
    "name": "ipython",
    "version": 3
   },
   "file_extension": ".py",
   "mimetype": "text/x-python",
   "name": "python",
   "nbconvert_exporter": "python",
   "pygments_lexer": "ipython3",
   "version": "3.12.2"
  }
 },
 "nbformat": 4,
 "nbformat_minor": 2
}
