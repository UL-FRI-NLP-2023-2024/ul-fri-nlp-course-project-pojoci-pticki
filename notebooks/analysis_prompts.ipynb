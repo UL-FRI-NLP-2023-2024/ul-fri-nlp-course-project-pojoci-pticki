{
 "cells": [
  {
   "cell_type": "code",
   "execution_count": 14,
   "metadata": {},
   "outputs": [],
   "source": [
    "import pandas as pd\n",
    "from sklearn.metrics import f1_score"
   ]
  },
  {
   "cell_type": "code",
   "execution_count": 18,
   "metadata": {},
   "outputs": [
    {
     "name": "stdout",
     "output_type": "stream",
     "text": [
      "Category Counts:\n",
      "UX: 37\n",
      "Social: 119\n",
      "Procedure: 97\n",
      "Deliberation: 223\n",
      "Seminar: 67\n",
      "Imaginative Entry: 20\n",
      "Others: 139\n",
      "Noise: 4\n"
     ]
    }
   ],
   "source": [
    "valid_categories = [\"UX\", \"Social\", \"Procedure\", \"Deliberation\", \"Seminar\", \"Imaginative Entry\", \"Others\"]\n",
    "def count_categories_and_noise(input_list):\n",
    "    # Initialize counts for each valid category\n",
    "    category_counts = {category: 0 for category in valid_categories}\n",
    "    noise_count = 0\n",
    "    \n",
    "    # Iterate through the input list\n",
    "    for item in input_list:\n",
    "        # Clean up the item by stripping whitespace\n",
    "        item = item.strip()\n",
    "        if item in valid_categories:\n",
    "            category_counts[item] += 1\n",
    "        else:\n",
    "            noise_count += 1\n",
    "    \n",
    "    return category_counts, noise_count\n",
    "\n",
    "def read_from_file(filename):\n",
    "    with open(filename, 'r') as file:\n",
    "        return [line.strip() for line in file.readlines()]\n",
    "    \n",
    "zero = '../data/chat_gpt3.5_zeroshot_categories.txt'\n",
    "few = '../data/chat_gpt3.5_fewshot_categories.txt'\n",
    "categories = read_from_file(zero)\n",
    "\n",
    "\n",
    "category_counts, noise_count = count_categories_and_noise(categories)\n",
    "\n",
    "print(\"Category Counts:\")\n",
    "for category, count in category_counts.items():\n",
    "    print(f\"{category}: {count}\")\n",
    "\n",
    "print(f\"Noise: {noise_count}\")"
   ]
  },
  {
   "cell_type": "code",
   "execution_count": 19,
   "metadata": {},
   "outputs": [
    {
     "name": "stdout",
     "output_type": "stream",
     "text": [
      "0.2719546742209632\n"
     ]
    }
   ],
   "source": [
    "#zero\n",
    "# Filter out noise entries in the predicted list by assuming noise should be classified as 'Other'\n",
    "filtered_predicted_list = [item if item in valid_categories else \"Others\" for item in categories]\n",
    "\n",
    "df = pd.read_csv('../data/final_data.csv')\n",
    "df = df.dropna()\n",
    "\n",
    "# Calculate the F1 micro score\n",
    "f1_micro = f1_score(df['Discussion Type'].values, filtered_predicted_list, labels=valid_categories, average='micro')\n",
    "print(f1_micro)"
   ]
  },
  {
   "cell_type": "code",
   "execution_count": 17,
   "metadata": {},
   "outputs": [
    {
     "name": "stdout",
     "output_type": "stream",
     "text": [
      "0.6206896551724138\n"
     ]
    }
   ],
   "source": [
    "#few3.5\n",
    "filtered_predicted_list = [item if item in valid_categories else \"Others\" for item in categories]\n",
    "\n",
    "df = pd.read_csv('../data/test_set.csv')\n",
    "df = df.dropna()\n",
    "\n",
    "# Calculate the F1 micro score\n",
    "f1_micro = f1_score(df['Discussion Type'].values, filtered_predicted_list, labels=valid_categories, average='micro')\n",
    "print(f1_micro)"
   ]
  }
 ],
 "metadata": {
  "kernelspec": {
   "display_name": "Python 3",
   "language": "python",
   "name": "python3"
  },
  "language_info": {
   "codemirror_mode": {
    "name": "ipython",
    "version": 3
   },
   "file_extension": ".py",
   "mimetype": "text/x-python",
   "name": "python",
   "nbconvert_exporter": "python",
   "pygments_lexer": "ipython3",
   "version": "3.12.2"
  }
 },
 "nbformat": 4,
 "nbformat_minor": 2
}
